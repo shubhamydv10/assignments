{
 "cells": [
  {
   "cell_type": "markdown",
   "id": "d37f29d5",
   "metadata": {},
   "source": [
    "# 1. What are escape characters, and how do you use them?"
   ]
  },
  {
   "cell_type": "markdown",
   "id": "52dd0efa",
   "metadata": {},
   "source": [
    "Escape char are basically used to enter the special character in the string which we cannot use directly as the output will be a error. We can use it by using \"\\\" backslash symbol to escape any character or symbol.\n",
    "\n",
    "example-"
   ]
  },
  {
   "cell_type": "code",
   "execution_count": 1,
   "id": "827d92c8",
   "metadata": {},
   "outputs": [
    {
     "ename": "SyntaxError",
     "evalue": "invalid syntax (152300039.py, line 1)",
     "output_type": "error",
     "traceback": [
      "\u001b[1;36m  File \u001b[1;32m\"C:\\Users\\yadav\\AppData\\Local\\Temp\\ipykernel_14964\\152300039.py\"\u001b[1;36m, line \u001b[1;32m1\u001b[0m\n\u001b[1;33m    n = \"My name is \"SHUBHAM\"\u001b[0m\n\u001b[1;37m                     ^\u001b[0m\n\u001b[1;31mSyntaxError\u001b[0m\u001b[1;31m:\u001b[0m invalid syntax\n"
     ]
    }
   ],
   "source": [
    "n = \"My name is \"SHUBHAM\""
   ]
  },
  {
   "cell_type": "code",
   "execution_count": 2,
   "id": "e49548b2",
   "metadata": {},
   "outputs": [],
   "source": [
    "n = 'My name is \\\"SHUBHAM\\\" '"
   ]
  },
  {
   "cell_type": "code",
   "execution_count": 3,
   "id": "a17352e8",
   "metadata": {},
   "outputs": [
    {
     "data": {
      "text/plain": [
       "'My name is \"SHUBHAM\" '"
      ]
     },
     "execution_count": 3,
     "metadata": {},
     "output_type": "execute_result"
    }
   ],
   "source": [
    "n"
   ]
  },
  {
   "cell_type": "markdown",
   "id": "8e6ea76e",
   "metadata": {},
   "source": [
    "# 2. What do the escape characters n and t stand for?"
   ]
  },
  {
   "cell_type": "markdown",
   "id": "949e1dc9",
   "metadata": {},
   "source": [
    "we use (\\n) to create a new line.\n",
    "\n",
    "we use (\\t) for tab which is equivalent to four spaces."
   ]
  },
  {
   "cell_type": "code",
   "execution_count": 4,
   "id": "9667bde5",
   "metadata": {},
   "outputs": [],
   "source": [
    "Ex1 = \"This is line 1. \\nThis is line 2.\""
   ]
  },
  {
   "cell_type": "code",
   "execution_count": 5,
   "id": "2eb0a634",
   "metadata": {},
   "outputs": [
    {
     "name": "stdout",
     "output_type": "stream",
     "text": [
      "This is line 1. \n",
      "This is line 2.\n"
     ]
    }
   ],
   "source": [
    "print(Ex1)"
   ]
  },
  {
   "cell_type": "code",
   "execution_count": 6,
   "id": "ccb57f53",
   "metadata": {},
   "outputs": [],
   "source": [
    "Ex2 = \"This is line 1. \\tThis is line 2.\""
   ]
  },
  {
   "cell_type": "code",
   "execution_count": 7,
   "id": "478e50a0",
   "metadata": {},
   "outputs": [
    {
     "name": "stdout",
     "output_type": "stream",
     "text": [
      "This is line 1. \tThis is line 2.\n"
     ]
    }
   ],
   "source": [
    "print(Ex2)"
   ]
  },
  {
   "cell_type": "markdown",
   "id": "6def8a5c",
   "metadata": {},
   "source": [
    "# 3. What is the way to include backslash characters in a string?"
   ]
  },
  {
   "cell_type": "markdown",
   "id": "b805c1b9",
   "metadata": {},
   "source": [
    "By using double backslash as one will work as escape character and other as backslash."
   ]
  },
  {
   "cell_type": "markdown",
   "id": "f46a439d",
   "metadata": {},
   "source": [
    "# 4. The string &quot;Howl&#39;s Moving Castle&quot; is a correct value. Why isn&#39;t the single quote character in the word Howl&#39;s not escaped a problem?"
   ]
  },
  {
   "cell_type": "code",
   "execution_count": 8,
   "id": "7ed30cc9",
   "metadata": {},
   "outputs": [
    {
     "name": "stdout",
     "output_type": "stream",
     "text": [
      "Howl's Moving Castle\n"
     ]
    }
   ],
   "source": [
    "print(\"Howl's Moving Castle\")  #as it is inside double quotation mark it is a correct value in term of string."
   ]
  },
  {
   "cell_type": "code",
   "execution_count": 9,
   "id": "14e753e9",
   "metadata": {},
   "outputs": [
    {
     "ename": "SyntaxError",
     "evalue": "invalid syntax (1567883888.py, line 1)",
     "output_type": "error",
     "traceback": [
      "\u001b[1;36m  File \u001b[1;32m\"C:\\Users\\yadav\\AppData\\Local\\Temp\\ipykernel_14964\\1567883888.py\"\u001b[1;36m, line \u001b[1;32m1\u001b[0m\n\u001b[1;33m    print('Howl's Moving Castle')\u001b[0m\n\u001b[1;37m                ^\u001b[0m\n\u001b[1;31mSyntaxError\u001b[0m\u001b[1;31m:\u001b[0m invalid syntax\n"
     ]
    }
   ],
   "source": [
    "print('Howl's Moving Castle')  "
   ]
  },
  {
   "cell_type": "code",
   "execution_count": 10,
   "id": "c805abd0",
   "metadata": {},
   "outputs": [
    {
     "name": "stdout",
     "output_type": "stream",
     "text": [
      "Howl's Moving Castle\n"
     ]
    }
   ],
   "source": [
    "#when we use single quotation it shows error as we need to use escape character to show output in single quotation.\n",
    "\n",
    "print('Howl\\'s Moving Castle')  "
   ]
  },
  {
   "cell_type": "markdown",
   "id": "5912854a",
   "metadata": {},
   "source": [
    "# 5. How do you write a string of newlines if you don&#39;t want to use the n character?"
   ]
  },
  {
   "cell_type": "code",
   "execution_count": 11,
   "id": "5007843d",
   "metadata": {},
   "outputs": [],
   "source": [
    "s  = '''just\n",
    "like \n",
    "this'''"
   ]
  },
  {
   "cell_type": "code",
   "execution_count": 12,
   "id": "7a0b52e3",
   "metadata": {},
   "outputs": [
    {
     "name": "stdout",
     "output_type": "stream",
     "text": [
      "just\n",
      "like \n",
      "this\n"
     ]
    }
   ],
   "source": [
    "print(s)    #using (''' text inside triple quotation''')"
   ]
  },
  {
   "cell_type": "markdown",
   "id": "8718f57c",
   "metadata": {},
   "source": [
    "# 6. What are the values of the given expressions?\n",
    "&#39;Hello, world!&#39;[1]\n",
    "\n",
    "&#39;Hello, world!&#39;[0:5]\n",
    "\n",
    "&#39;Hello, world!&#39;[:5]\n",
    "\n",
    "&#39;Hello, world!&#39;[3:]"
   ]
  },
  {
   "cell_type": "code",
   "execution_count": 13,
   "id": "a787816d",
   "metadata": {},
   "outputs": [
    {
     "data": {
      "text/plain": [
       "('e', 'Hello', 'Hello', 'lo, world!')"
      ]
     },
     "execution_count": 13,
     "metadata": {},
     "output_type": "execute_result"
    }
   ],
   "source": [
    "'Hello, world!'[1] , 'Hello, world!'[0:5] , 'Hello, world!'[:5] , 'Hello, world!'[3:]"
   ]
  },
  {
   "cell_type": "markdown",
   "id": "d27d10aa",
   "metadata": {},
   "source": [
    "# 7. What are the values of the following expressions?\n",
    "\n",
    "&#39;Hello&#39;.upper()\n",
    "\n",
    "&#39;Hello&#39;.upper().isupper()\n",
    "\n",
    "&#39;Hello&#39;.upper().lower()"
   ]
  },
  {
   "cell_type": "code",
   "execution_count": 14,
   "id": "141c2502",
   "metadata": {},
   "outputs": [
    {
     "data": {
      "text/plain": [
       "'HELLO'"
      ]
     },
     "execution_count": 14,
     "metadata": {},
     "output_type": "execute_result"
    }
   ],
   "source": [
    "'Hello'.upper()    #to capatazile the string or in upper case."
   ]
  },
  {
   "cell_type": "code",
   "execution_count": 15,
   "id": "df965f87",
   "metadata": {},
   "outputs": [
    {
     "data": {
      "text/plain": [
       "True"
      ]
     },
     "execution_count": 15,
     "metadata": {},
     "output_type": "execute_result"
    }
   ],
   "source": [
    "'Hello'.upper().isupper()    #to check whether the string is in upper case or not and return the boolean value."
   ]
  },
  {
   "cell_type": "code",
   "execution_count": 16,
   "id": "7eb813b1",
   "metadata": {},
   "outputs": [
    {
     "data": {
      "text/plain": [
       "'hello'"
      ]
     },
     "execution_count": 16,
     "metadata": {},
     "output_type": "execute_result"
    }
   ],
   "source": [
    "'Hello'.upper().lower()  #to convert the first alphabet of string into lower case."
   ]
  },
  {
   "cell_type": "markdown",
   "id": "244267d8",
   "metadata": {},
   "source": [
    "# 8. What are the values of the following expressions?\n",
    "&#39;Remember, remember, the fifth of July.&#39;.split()\n",
    "\n",
    "&#39;-&#39;.join(&#39;There can only one.&#39;.split())"
   ]
  },
  {
   "cell_type": "code",
   "execution_count": 17,
   "id": "1bc4af31",
   "metadata": {},
   "outputs": [
    {
     "name": "stdout",
     "output_type": "stream",
     "text": [
      "['Remember,', 'remember,', 'the', 'fifth', 'of', 'July.']\n"
     ]
    }
   ],
   "source": [
    "print('Remember, remember, the fifth of July.'.split())   #use for splitting the values"
   ]
  },
  {
   "cell_type": "code",
   "execution_count": 18,
   "id": "e0653599",
   "metadata": {},
   "outputs": [
    {
     "name": "stdout",
     "output_type": "stream",
     "text": [
      "There-can-only-one.\n"
     ]
    }
   ],
   "source": [
    "print('-'.join('There can only one.'.split()))   #use for joining which the specific assigned character."
   ]
  },
  {
   "cell_type": "markdown",
   "id": "adedf770",
   "metadata": {},
   "source": [
    "# 9. What are the methods for right-justifying, left-justifying, and centering a string?"
   ]
  },
  {
   "cell_type": "markdown",
   "id": "7d427f54",
   "metadata": {},
   "source": [
    "For right justifying we use str.rjust(width, fillchar)\n",
    "\n",
    "For left justifying we use str.ljust(width, fillchar)\n",
    "\n",
    "For centering we use str.center(width, fillchar)"
   ]
  },
  {
   "cell_type": "code",
   "execution_count": 19,
   "id": "37496de9",
   "metadata": {},
   "outputs": [
    {
     "name": "stdout",
     "output_type": "stream",
     "text": [
      "--------shubham\n"
     ]
    }
   ],
   "source": [
    "name = \"shubham\"\n",
    "rj = name.rjust(15, \"-\")\n",
    "print(rj)"
   ]
  },
  {
   "cell_type": "code",
   "execution_count": 20,
   "id": "26ae0d8d",
   "metadata": {},
   "outputs": [
    {
     "name": "stdout",
     "output_type": "stream",
     "text": [
      "shubham--------\n"
     ]
    }
   ],
   "source": [
    "name = \"shubham\"\n",
    "lj = name.ljust(15, \"-\")\n",
    "print(lj)"
   ]
  },
  {
   "cell_type": "code",
   "execution_count": 21,
   "id": "c7c44824",
   "metadata": {},
   "outputs": [
    {
     "name": "stdout",
     "output_type": "stream",
     "text": [
      "----shubham----\n"
     ]
    }
   ],
   "source": [
    "name = \"shubham\"\n",
    "cntr = name.center(15, \"-\")\n",
    "print(cntr)"
   ]
  },
  {
   "cell_type": "markdown",
   "id": "7fba05d2",
   "metadata": {},
   "source": [
    "# 10. What is the best way to remove whitespace characters from the start or end?"
   ]
  },
  {
   "cell_type": "code",
   "execution_count": 22,
   "id": "4ac15b6c",
   "metadata": {},
   "outputs": [],
   "source": [
    "#using the strip function we can do it .\n",
    "\n",
    "name= (\"              shubham         \")\n",
    "s1 = name.strip()                            #it will remove all the spaces present in the string.\n",
    "s2= name.lstrip()                            #lstrip will remove all the spaces from left.\n",
    "s3= name.rstrip()                            #rstrip will remove all spaces from right.     "
   ]
  },
  {
   "cell_type": "code",
   "execution_count": 23,
   "id": "7e0cdb2d",
   "metadata": {},
   "outputs": [
    {
     "name": "stdout",
     "output_type": "stream",
     "text": [
      "shubham\n"
     ]
    }
   ],
   "source": [
    "print(s1)"
   ]
  },
  {
   "cell_type": "code",
   "execution_count": 24,
   "id": "e957cdfc",
   "metadata": {},
   "outputs": [
    {
     "name": "stdout",
     "output_type": "stream",
     "text": [
      "shubham         \n"
     ]
    }
   ],
   "source": [
    "print(s2)"
   ]
  },
  {
   "cell_type": "code",
   "execution_count": 25,
   "id": "f19634a5",
   "metadata": {},
   "outputs": [
    {
     "name": "stdout",
     "output_type": "stream",
     "text": [
      "              shubham\n"
     ]
    }
   ],
   "source": [
    "print(s3)"
   ]
  },
  {
   "cell_type": "code",
   "execution_count": null,
   "id": "c9b62191",
   "metadata": {},
   "outputs": [],
   "source": []
  },
  {
   "cell_type": "code",
   "execution_count": null,
   "id": "f87e9dba",
   "metadata": {},
   "outputs": [],
   "source": []
  }
 ],
 "metadata": {
  "kernelspec": {
   "display_name": "Python 3 (ipykernel)",
   "language": "python",
   "name": "python3"
  },
  "language_info": {
   "codemirror_mode": {
    "name": "ipython",
    "version": 3
   },
   "file_extension": ".py",
   "mimetype": "text/x-python",
   "name": "python",
   "nbconvert_exporter": "python",
   "pygments_lexer": "ipython3",
   "version": "3.9.13"
  }
 },
 "nbformat": 4,
 "nbformat_minor": 5
}
