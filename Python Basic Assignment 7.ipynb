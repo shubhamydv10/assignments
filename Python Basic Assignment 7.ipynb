{
 "cells": [
  {
   "cell_type": "markdown",
   "id": "926f126a",
   "metadata": {},
   "source": [
    "# 1. What is the name of the feature responsible for generating Regex objects?"
   ]
  },
  {
   "cell_type": "markdown",
   "id": "c51d012f",
   "metadata": {},
   "source": [
    "==>    The \"\"\" re.compile()  \"\"\" function responsible for generating Regex object. It is a part of 're' module."
   ]
  },
  {
   "cell_type": "markdown",
   "id": "120a0a6a",
   "metadata": {},
   "source": [
    "# 2. Why do raw strings often appear in Regex objects?"
   ]
  },
  {
   "cell_type": "markdown",
   "id": "80dfb3ea",
   "metadata": {},
   "source": [
    " ==> We use raw string to use the special character in regular expression without invoking there special meaning.\n",
    "\n",
    "    ex - as \\n prints new line but by using r\"\\n\" it will print the escape sequence character. "
   ]
  },
  {
   "cell_type": "markdown",
   "id": "49a473c3",
   "metadata": {},
   "source": [
    "# 3. What is the return value of the search() method?"
   ]
  },
  {
   "cell_type": "code",
   "execution_count": 8,
   "id": "6c11277d",
   "metadata": {},
   "outputs": [
    {
     "name": "stdout",
     "output_type": "stream",
     "text": [
      "<re.Match object; span=(156, 164), match='Autobots'>\n",
      "None\n"
     ]
    }
   ],
   "source": [
    "import re\n",
    "pattern = \"Autobots\"\n",
    "pattern1 = \"Optimus\"\n",
    "text = '''Transformers is a media franchise produced by American toy company Hasbro and Japanese toy company Takara Tomy.\n",
    "            It primarily follows the heroic Autobots and the villainous Decepticons, two alien robot factions at war that can transform into other forms, such as vehicles and animals.\n",
    "            The franchise encompasses toys, animation, comic books, video games and films'''\n",
    "match = re.search(pattern,text)\n",
    "print(match)\n",
    "\n",
    "match1 = re.search(pattern1 ,text)\n",
    "print(match1)"
   ]
  },
  {
   "cell_type": "markdown",
   "id": "06c8dbc0",
   "metadata": {},
   "source": [
    " ==> the search() meathod basically return the span of the text which is basically the position of the pattern that we are      searching in the text.\n",
    "\n",
    "     If no pattern is present in the text then it will return none as output."
   ]
  },
  {
   "cell_type": "markdown",
   "id": "95d06d7d",
   "metadata": {},
   "source": [
    "# 4. From a Match item, how do you get the actual strings that match the pattern?"
   ]
  },
  {
   "cell_type": "code",
   "execution_count": 9,
   "id": "1532e15f",
   "metadata": {},
   "outputs": [
    {
     "name": "stdout",
     "output_type": "stream",
     "text": [
      "Autobots\n"
     ]
    }
   ],
   "source": [
    "import re\n",
    "pattern = \"Autobots\"\n",
    "text = '''Transformers is a media franchise produced by American toy company Hasbro and Japanese toy company Takara Tomy.\n",
    "            It primarily follows the heroic Autobots and the villainous Decepticons, two alien robot factions at war that can transform into other forms, such as vehicles and animals.\n",
    "            The franchise encompasses toys, animation, comic books, video games and films'''\n",
    "match = re.search(pattern,text)\n",
    "print(match.group())"
   ]
  },
  {
   "cell_type": "markdown",
   "id": "4b811c52",
   "metadata": {},
   "source": [
    "==>  By using group() operation"
   ]
  },
  {
   "cell_type": "markdown",
   "id": "5e449285",
   "metadata": {},
   "source": [
    "# 5. In the regex which created from the r&#39;(\\d\\d\\d)-(\\d\\d\\d-\\d\\d\\d\\d)&#39;, what does group zero cover?Group 2? Group 1?"
   ]
  },
  {
   "cell_type": "code",
   "execution_count": 10,
   "id": "cc317a1f",
   "metadata": {},
   "outputs": [
    {
     "name": "stdout",
     "output_type": "stream",
     "text": [
      "984-125-1264\n",
      "984\n",
      "125-1264\n"
     ]
    }
   ],
   "source": [
    "import re\n",
    "pattern = r'(\\d\\d\\d)-(\\d\\d\\d-\\d\\d\\d\\d)'\n",
    "str = '984-125-1264'\n",
    "match = re.search(pattern , str)\n",
    "print(match.group(0))\n",
    "print(match.group(1))\n",
    "print(match.group(2))\n"
   ]
  },
  {
   "cell_type": "markdown",
   "id": "ede5ef46",
   "metadata": {},
   "source": [
    "# 6. In standard expression syntax, parentheses and intervals have distinct meanings. How can you tell a regex that you want it to fit real parentheses and periods?"
   ]
  },
  {
   "cell_type": "markdown",
   "id": "c5b5a099",
   "metadata": {},
   "source": [
    "==> We can do it by using backslash as the parentheses ( ) and '.' have a special meaning a we can skip it by using backslash."
   ]
  },
  {
   "cell_type": "code",
   "execution_count": 11,
   "id": "363cbf6a",
   "metadata": {},
   "outputs": [
    {
     "name": "stdout",
     "output_type": "stream",
     "text": [
      "(242).459\n"
     ]
    }
   ],
   "source": [
    "import re\n",
    "pattern = r'\\(242\\)\\.459'\n",
    "string = '(242).459'\n",
    "\n",
    "match = re.search(pattern , string)\n",
    "print(match.group())\n",
    "\n"
   ]
  },
  {
   "cell_type": "markdown",
   "id": "1a515885",
   "metadata": {},
   "source": [
    "# 7. The findall() method returns a string list or a list of string tuples. What causes it to return one of the two options?"
   ]
  },
  {
   "cell_type": "code",
   "execution_count": 12,
   "id": "93409136",
   "metadata": {},
   "outputs": [
    {
     "name": "stdout",
     "output_type": "stream",
     "text": [
      "['the', 'the', 'the']\n",
      "<class 'list'>\n",
      "[('123', 'abc'), ('123', 'abc')]\n",
      "<class 'tuple'>\n"
     ]
    }
   ],
   "source": [
    "import re\n",
    "pattern = \"the\"\n",
    "pattern1 = r'(\\d+)-(\\w+)'\n",
    "\n",
    "text = '''Transformers is a media franchise produced by American toy company Hasbro and Japanese toy company Takara Tomy.\n",
    "            It primarily follows the heroic Autobots 123-abc and the villainous Decepticons, two alien robot factions at war that can transform into other forms, such as vehicles and animals.\n",
    "            The franchise encompasses toys, animation, comic books, video games and films 123-abc'''\n",
    "match = re.findall(pattern , text)\n",
    "print(match)\n",
    "print(type(match))\n",
    "\n",
    "match1= re.findall(pattern1,text)\n",
    "print(match1)\n",
    "print(type(match1[0]))"
   ]
  },
  {
   "cell_type": "markdown",
   "id": "e76344ed",
   "metadata": {},
   "source": [
    "==> If pattern has no groups then list of strings matched is returned and in case of groups tuple of strings is returned"
   ]
  },
  {
   "cell_type": "markdown",
   "id": "3a4b5973",
   "metadata": {},
   "source": [
    "# 8. In standard expressions, what does the | character mean?"
   ]
  },
  {
   "cell_type": "markdown",
   "id": "277ee629",
   "metadata": {},
   "source": [
    "==> It means OR operator"
   ]
  },
  {
   "cell_type": "markdown",
   "id": "fbe47dc7",
   "metadata": {},
   "source": [
    "# 9. In regular expressions, what does the character stand for?"
   ]
  },
  {
   "cell_type": "markdown",
   "id": "53c04952",
   "metadata": {},
   "source": [
    "==> It means zero or one match."
   ]
  },
  {
   "cell_type": "markdown",
   "id": "2731f90c",
   "metadata": {},
   "source": [
    "# 10.In regular expressions, what is the difference between the + and * characters?"
   ]
  },
  {
   "cell_type": "markdown",
   "id": "c4df2f81",
   "metadata": {},
   "source": [
    "==>  '+' (Plus symbol): It matches one or more occurrences of the preceding pattern.\n",
    "\n",
    "==>  '*' (Asterisk symbol): It matches zero or more occurrences of the preceding pattern"
   ]
  },
  {
   "cell_type": "markdown",
   "id": "020f768d",
   "metadata": {},
   "source": [
    "# 11. What is the difference between {4} and {4,5} in regular expression?"
   ]
  },
  {
   "cell_type": "markdown",
   "id": "6bcd980c",
   "metadata": {},
   "source": [
    "==> {4} matches the four occurence of the pattern.\n",
    "\n",
    "==> {4,5} matches the range of occurence of pattern where mininum can be 4 and max can be 5."
   ]
  },
  {
   "cell_type": "code",
   "execution_count": 13,
   "id": "d1ea9a11",
   "metadata": {},
   "outputs": [
    {
     "name": "stdout",
     "output_type": "stream",
     "text": [
      "match with {4} :  ['eeee']\n",
      "match with {4,5} : ['aaaa', 'aaaaa']\n"
     ]
    }
   ],
   "source": [
    "import re\n",
    "string = 'aaa bbb aaaa dd eeee aaaaa dddd ee eee'\n",
    "match = re.findall(r'e{4}',string)\n",
    "match1 = re.findall(r'a{4,5}',string)\n",
    "\n",
    "print(\"match with {4} : \", match)\n",
    "print(\"match with {4,5} :\",match1)"
   ]
  },
  {
   "cell_type": "markdown",
   "id": "d08fb885",
   "metadata": {},
   "source": [
    "# 12. What do you mean by the \\d, \\w, and \\s shorthand character classes signify in regular expressions?"
   ]
  },
  {
   "cell_type": "markdown",
   "id": "2226b0cd",
   "metadata": {},
   "source": [
    "==>  \\d matches the single digit character from (0-9).\n",
    "\n",
    "==> \\w matches the word character both uppercase and lowercase for (a-z) and (A-Z) and digit (0-9).\n",
    "\n",
    "==> \\s matches all the space , tabs and newline characters."
   ]
  },
  {
   "cell_type": "code",
   "execution_count": 14,
   "id": "e00da8be",
   "metadata": {},
   "outputs": [
    {
     "name": "stdout",
     "output_type": "stream",
     "text": [
      "all digit match in string are :  ['917007226636']\n",
      "all word match in string are :  ['You', 'can', 'contact', 'me', 'on', '917007226636']\n",
      "all space match in string are :  [' ', ' ', ' ', ' ', ' ']\n"
     ]
    }
   ],
   "source": [
    "import re\n",
    "string = 'You can contact me on +917007226636'\n",
    "\n",
    "match_digit = re.findall(r'\\d+',string)\n",
    "print(\"all digit match in string are : \" , match_digit)\n",
    "\n",
    "match_word = re.findall(r'\\w+',string)\n",
    "print(\"all word match in string are : \" , match_word)\n",
    "\n",
    "match_space = re.findall(r'\\s+',string)\n",
    "print(\"all space match in string are : \" , match_space)"
   ]
  },
  {
   "cell_type": "markdown",
   "id": "83ace2f8",
   "metadata": {},
   "source": [
    "# 13. What do means by \\D, \\W, and \\S shorthand character classes signify in regular expressions?"
   ]
  },
  {
   "cell_type": "markdown",
   "id": "a91f1e35",
   "metadata": {},
   "source": [
    "==> We can say that is is just opposite to its lowercase characters or viceversa."
   ]
  },
  {
   "cell_type": "markdown",
   "id": "cff604a0",
   "metadata": {},
   "source": [
    "==>  \\D matches any character that is not digit.\n",
    "\n",
    "==> \\W matches the character that it not word character .\n",
    "\n",
    "==> \\S matches any character that is not space character."
   ]
  },
  {
   "cell_type": "code",
   "execution_count": 15,
   "id": "f891cf88",
   "metadata": {},
   "outputs": [
    {
     "name": "stdout",
     "output_type": "stream",
     "text": [
      "all \\D match in string are :  ['You can contact me on +']\n",
      "all \\W match in string are :  [' ', ' ', ' ', ' ', ' +']\n",
      "all \\S match in string are :  ['You', 'can', 'contact', 'me', 'on', '+917007226636']\n"
     ]
    }
   ],
   "source": [
    "import re\n",
    "string = 'You can contact me on +917007226636'\n",
    "\n",
    "match_digit = re.findall(r'\\D+',string)\n",
    "print(\"all \\D match in string are : \" , match_digit)\n",
    "\n",
    "match_word = re.findall(r'\\W+',string)\n",
    "print(\"all \\W match in string are : \" , match_word)\n",
    "\n",
    "match_space = re.findall(r'\\S+',string)\n",
    "print(\"all \\S match in string are : \" , match_space)"
   ]
  },
  {
   "cell_type": "markdown",
   "id": "b496e1df",
   "metadata": {},
   "source": [
    "# 14. What is the difference between .*? and .*?"
   ]
  },
  {
   "cell_type": "markdown",
   "id": "dea87836",
   "metadata": {},
   "source": [
    "==> (.*) - It matches zero or more occurence of any character excepy newline character and return the longest string which is known as greedy mode.\n",
    "\n",
    "==> (.*?) - It matches zero or more occurence of any character excepy newline character but in non greedy mode by returning the short string."
   ]
  },
  {
   "cell_type": "code",
   "execution_count": 16,
   "id": "ce257f3c",
   "metadata": {},
   "outputs": [
    {
     "name": "stdout",
     "output_type": "stream",
     "text": [
      "Greedy mode of string ['abcxabcanbaugfuaiufhjabnsfugabababanjhuigfhashfabyzab']\n",
      "Non Greedy mode of string ['ab', 'ab', 'anb', 'augfuaiufhjab', 'ab', 'ab', 'ab', 'anjhuigfhashfab', 'ab']\n"
     ]
    }
   ],
   "source": [
    "import re\n",
    "string = \"abcxabcanbaugfuaiufhjabnsfugabababanjhuigfhashfabyzab\"\n",
    "\n",
    "match1 = re.findall(r'a.*b',string)\n",
    "print(\"Greedy mode of string\" , match1)\n",
    "\n",
    "match2 = re.findall(r'a.*?b',string)\n",
    "print(\"Non Greedy mode of string\" , match2)"
   ]
  },
  {
   "cell_type": "markdown",
   "id": "6cd85d37",
   "metadata": {},
   "source": [
    "# 15. What is the syntax for matching both numbers and lowercase letters with a character class?"
   ]
  },
  {
   "cell_type": "markdown",
   "id": "0a4fcf19",
   "metadata": {},
   "source": [
    "==> We can di it by using syntax [0-9a-z]"
   ]
  },
  {
   "cell_type": "code",
   "execution_count": 17,
   "id": "0900686c",
   "metadata": {},
   "outputs": [
    {
     "name": "stdout",
     "output_type": "stream",
     "text": [
      "['a', 'b', 'c', 'x', 'a', 'b', '1', '3', '2', '4', '8', '7', '1', '3', '2', '1', '4', '6', '9', '8', '3', '2', 'f', 'a', 'b', 'y', 'z', 'a', 'b']\n"
     ]
    }
   ],
   "source": [
    "import re\n",
    "string = \"abcxab1324871321469832fabyzab\"\n",
    "\n",
    "match = re.findall(r'[0-9a-z]',string)\n",
    "print(match)"
   ]
  },
  {
   "cell_type": "markdown",
   "id": "5bf6eac1",
   "metadata": {},
   "source": [
    "# 16. What is the procedure for making a normal expression in regax case insensitive?"
   ]
  },
  {
   "cell_type": "markdown",
   "id": "11f80bb7",
   "metadata": {},
   "source": [
    "==> By passing flags=re.IGNORECASE"
   ]
  },
  {
   "cell_type": "markdown",
   "id": "e03ba472",
   "metadata": {},
   "source": [
    "# 17. What does the . character normally match? What does it match if re.DOTALL is passed as 2nd argument in re.compile()?"
   ]
  },
  {
   "cell_type": "markdown",
   "id": "73b5670d",
   "metadata": {},
   "source": [
    "==> DOT (.) character matches everything in the string except new line characters . By using re.DOTALL it will match everything in the string as well as new line character also."
   ]
  },
  {
   "cell_type": "markdown",
   "id": "0982738c",
   "metadata": {},
   "source": [
    "# 18. If numReg = re.compile(r&#39;\\d+&#39;), what will numRegex.sub(&#39;X&#39;, &#39;11 drummers, 10 pipers, five rings, 4hen&#39;) return?"
   ]
  },
  {
   "cell_type": "code",
   "execution_count": 18,
   "id": "81f4d226",
   "metadata": {},
   "outputs": [
    {
     "name": "stdout",
     "output_type": "stream",
     "text": [
      "X drummers, X pipers, five rings, Xhen\n"
     ]
    }
   ],
   "source": [
    "import re\n",
    "numRegex = re.compile(r'\\d+')\n",
    "match = numRegex.sub('X', '11 drummers, 10 pipers, five rings, 4hen')\n",
    "print(match)"
   ]
  },
  {
   "cell_type": "markdown",
   "id": "ed2598b7",
   "metadata": {},
   "source": [
    "# 19. What does passing re.VERBOSE as the 2nd argument to re.compile() allow to do?"
   ]
  },
  {
   "cell_type": "markdown",
   "id": "d4b72bc8",
   "metadata": {},
   "source": [
    "==> It let us to add whitespaces and comments in the string which is ingnored in the matching of the string."
   ]
  },
  {
   "cell_type": "code",
   "execution_count": 19,
   "id": "0c2bfa04",
   "metadata": {},
   "outputs": [
    {
     "name": "stdout",
     "output_type": "stream",
     "text": [
      "['Hello', 'World', 'This', 'is', 'a', 'test']\n"
     ]
    }
   ],
   "source": [
    "import re\n",
    "\n",
    "pattern = r\"\"\"\n",
    "        \\b          # Word boundary\n",
    "        \\w+         # Match one or more word characters\n",
    "        \\b          # Word boundary\n",
    "        \"\"\"\n",
    "\n",
    "text = \"Hello, World! This is a test.\"\n",
    "\n",
    "regex = re.compile(pattern, re.VERBOSE)\n",
    "matches = regex.findall(text)\n",
    "print(matches)\n"
   ]
  },
  {
   "cell_type": "markdown",
   "id": "f0eac7a3",
   "metadata": {},
   "source": [
    "# 20. How would you write a regex that match a number with comma for every three digits? It must match the given following:&#39;42&#39;&#39;1,234&#39;&#39;6,368,745&#39;but not the following:&#39;12,34,567&#39; (which has only two digits between the commas)&#39;1234&#39; (which lacks commas)"
   ]
  },
  {
   "cell_type": "code",
   "execution_count": 20,
   "id": "f8d257ee",
   "metadata": {},
   "outputs": [
    {
     "name": "stdout",
     "output_type": "stream",
     "text": [
      "Matched: 42\n",
      "Matched: 1,234\n",
      "Matched: 6,368,745\n",
      "Not Matched: 12,34,567\n",
      "Not Matched: 1234\n"
     ]
    }
   ],
   "source": [
    "import re\n",
    "\n",
    "pattern = r'^\\d{1,3}(,\\d{3})*$'\n",
    "\n",
    "strings = ['42', '1,234', '6,368,745', '12,34,567', '1234']\n",
    "\n",
    "for i in strings:\n",
    "    if re.match(pattern, i):\n",
    "        print(f\"Matched: {i}\")\n",
    "    else:\n",
    "        print(f\"Not Matched: {i}\")\n"
   ]
  },
  {
   "cell_type": "markdown",
   "id": "2ec82184",
   "metadata": {},
   "source": [
    "# 21. How would you write a regex that matches the full name of someone whose last name is Watanabe? You can assume that the first name that comes before it will always be one word that begins with a capital letter. The regex must match the following: &#39;Haruto Watanabe&#39; &#39;Alice Watanabe&#39; &#39;RoboCop Watanabe&#39; but not the following: &#39;haruto Watanabe&#39; (where the first name is not capitalized) &#39;Mr. Watanabe&#39; (where the preceding word has a nonletter character) &#39;Watanabe&#39; (which has no first name) &#39;Haruto watanabe&#39; (where Watanabe is not capitalized)"
   ]
  },
  {
   "cell_type": "code",
   "execution_count": 21,
   "id": "179e614c",
   "metadata": {},
   "outputs": [
    {
     "name": "stdout",
     "output_type": "stream",
     "text": [
      "Matched: Haruto Watanabe\n",
      "Matched: Alice Watanabe\n",
      "Matched: RoboCop Watanabe\n",
      "Not Matched: haruto Watanabe\n",
      "Not Matched: Mr. Watanabe\n",
      "Not Matched: Watanabe\n",
      "Not Matched: Haruto watanabe\n"
     ]
    }
   ],
   "source": [
    "import re\n",
    "\n",
    "pattern = r'^[A-Z][a-zA-Z]*\\sWatanabe$'\n",
    "\n",
    "names = ['Haruto Watanabe', 'Alice Watanabe', 'RoboCop Watanabe', 'haruto Watanabe', 'Mr. Watanabe', 'Watanabe', 'Haruto watanabe']\n",
    "\n",
    "for i in names:\n",
    "    if re.match(pattern, i):\n",
    "        print(f\"Matched: {i}\")\n",
    "    else:\n",
    "        print(f\"Not Matched: {i}\")\n"
   ]
  },
  {
   "cell_type": "markdown",
   "id": "8f795e20",
   "metadata": {},
   "source": [
    "# 22. How would you write a regex that matches a sentence where the first word is either Alice, Bob, or Carol; the second word is either eats, pets, or throws; the third word is apples, cats, or baseballs; and the sentence ends with a period? This regex should be case-insensitive. It must match the following:"
   ]
  },
  {
   "cell_type": "code",
   "execution_count": 22,
   "id": "81affea1",
   "metadata": {},
   "outputs": [],
   "source": [
    "# 'Alice eats apples.'\n",
    "\n",
    "#'Bob pets cats.'\n",
    "\n",
    "#'Carol throws baseballs.'\n",
    "\n",
    "#'Alice throws Apples.'\n",
    "\n",
    "#'BOB EATS CATS.'\n",
    "\n",
    "#but not the following:\n",
    "\n",
    "#'RoboCop eats apples.'\n",
    "\n",
    "#'ALICE THROWS FOOTBALLS.'\n",
    "\n",
    "#'Carol eats 7 cats.'"
   ]
  },
  {
   "cell_type": "code",
   "execution_count": 23,
   "id": "02dbd0fa",
   "metadata": {},
   "outputs": [
    {
     "name": "stdout",
     "output_type": "stream",
     "text": [
      "Matched: Alice eats apples.\n",
      "Matched: Bob pets cats.\n",
      "Matched: Carol throws baseballs.\n",
      "Not Matched: Alice throws Apples.\n",
      "Not Matched: BOB EATS CATS.\n",
      "Not Matched: RoboCop eats apples.\n",
      "Not Matched: ALICE THROWS FOOTBALLS.\n",
      "Not Matched: Carol eats 7 cats.\n"
     ]
    }
   ],
   "source": [
    "import re\n",
    "\n",
    "pattern = r'(Alice|Bob|Carol)\\s(eats|pets|throws)\\s(apples|cats|baseballs).'\n",
    "\n",
    "text = ['Alice eats apples.','Bob pets cats.','Carol throws baseballs.','Alice throws Apples.','BOB EATS CATS.','RoboCop eats apples.','ALICE THROWS FOOTBALLS.','Carol eats 7 cats.']\n",
    "\n",
    "for i in text:\n",
    "    if re.match(pattern ,i):\n",
    "         print(f\"Matched: {i}\")\n",
    "    else:\n",
    "        print(f\"Not Matched: {i}\")"
   ]
  },
  {
   "cell_type": "code",
   "execution_count": null,
   "id": "2a55a532",
   "metadata": {},
   "outputs": [],
   "source": []
  },
  {
   "cell_type": "code",
   "execution_count": null,
   "id": "7ec2ad25",
   "metadata": {},
   "outputs": [],
   "source": []
  },
  {
   "cell_type": "code",
   "execution_count": null,
   "id": "54ea5916",
   "metadata": {},
   "outputs": [],
   "source": []
  },
  {
   "cell_type": "code",
   "execution_count": null,
   "id": "bd57492b",
   "metadata": {},
   "outputs": [],
   "source": []
  },
  {
   "cell_type": "code",
   "execution_count": null,
   "id": "1cd49486",
   "metadata": {},
   "outputs": [],
   "source": []
  },
  {
   "cell_type": "code",
   "execution_count": null,
   "id": "7024c0bf",
   "metadata": {},
   "outputs": [],
   "source": []
  },
  {
   "cell_type": "code",
   "execution_count": null,
   "id": "0ff124bf",
   "metadata": {},
   "outputs": [],
   "source": []
  },
  {
   "cell_type": "code",
   "execution_count": null,
   "id": "cec7b655",
   "metadata": {},
   "outputs": [],
   "source": []
  },
  {
   "cell_type": "code",
   "execution_count": null,
   "id": "3e580ad8",
   "metadata": {},
   "outputs": [],
   "source": []
  },
  {
   "cell_type": "code",
   "execution_count": null,
   "id": "4926aba4",
   "metadata": {},
   "outputs": [],
   "source": []
  },
  {
   "cell_type": "code",
   "execution_count": null,
   "id": "52e67e2f",
   "metadata": {},
   "outputs": [],
   "source": []
  }
 ],
 "metadata": {
  "kernelspec": {
   "display_name": "Python 3 (ipykernel)",
   "language": "python",
   "name": "python3"
  },
  "language_info": {
   "codemirror_mode": {
    "name": "ipython",
    "version": 3
   },
   "file_extension": ".py",
   "mimetype": "text/x-python",
   "name": "python",
   "nbconvert_exporter": "python",
   "pygments_lexer": "ipython3",
   "version": "3.9.13"
  }
 },
 "nbformat": 4,
 "nbformat_minor": 5
}
