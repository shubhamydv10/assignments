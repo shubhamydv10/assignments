{
 "cells": [
  {
   "cell_type": "code",
   "execution_count": 3,
   "id": "93cf7844",
   "metadata": {},
   "outputs": [],
   "source": [
    "#1. Why are functions advantageous to have in your programs?"
   ]
  },
  {
   "cell_type": "markdown",
   "id": "fada2ebc",
   "metadata": {},
   "source": [
    "Re-usablity of a particular code is the mian advantage of the functions.So programe is easy to read and update."
   ]
  },
  {
   "cell_type": "code",
   "execution_count": 4,
   "id": "bc0d8d47",
   "metadata": {},
   "outputs": [],
   "source": [
    "#2. When does the code in a function run: when it&#39;s specified or when it&#39;s called?"
   ]
  },
  {
   "cell_type": "markdown",
   "id": "5af653a2",
   "metadata": {},
   "source": [
    "When it is specified."
   ]
  },
  {
   "cell_type": "code",
   "execution_count": 5,
   "id": "ac9d5076",
   "metadata": {},
   "outputs": [],
   "source": [
    "#3. What statement creates a function?"
   ]
  },
  {
   "cell_type": "markdown",
   "id": "f503f4c1",
   "metadata": {},
   "source": [
    "def statement is used for creating a function.\n",
    "\n",
    "def test(a, b) :\n",
    "    '''this is my fuction for concatination or addition'''\n",
    "    return a+b"
   ]
  },
  {
   "cell_type": "code",
   "execution_count": null,
   "id": "2e9265a8",
   "metadata": {},
   "outputs": [],
   "source": [
    "#4. What is the difference between a function and a function call?"
   ]
  },
  {
   "cell_type": "markdown",
   "id": "5047d61f",
   "metadata": {},
   "source": [
    "Function is the procedure to get the desired output whereas function call is used to perform a particular task in a programe by using a function."
   ]
  },
  {
   "cell_type": "code",
   "execution_count": null,
   "id": "a3dc6d32",
   "metadata": {},
   "outputs": [],
   "source": [
    "#5. How many global scopes are there in a Python program? How many local scopes?"
   ]
  },
  {
   "cell_type": "markdown",
   "id": "c9644e01",
   "metadata": {},
   "source": [
    "One global scope and a local scope is created when the function is called."
   ]
  },
  {
   "cell_type": "code",
   "execution_count": 7,
   "id": "050bee87",
   "metadata": {},
   "outputs": [],
   "source": [
    "#6. What happens to variables in a local scope when the function call returns?"
   ]
  },
  {
   "cell_type": "markdown",
   "id": "956cf624",
   "metadata": {},
   "source": [
    "All the values are deleted automatically."
   ]
  },
  {
   "cell_type": "code",
   "execution_count": null,
   "id": "270f68ef",
   "metadata": {},
   "outputs": [],
   "source": [
    "#7. What is the concept of a return value? Is it possible to have a return value in an expression?"
   ]
  },
  {
   "cell_type": "markdown",
   "id": "c4513917",
   "metadata": {},
   "source": [
    "Return value is exectued by the function call or we can say the output value of function. Yes return value can be an expression."
   ]
  },
  {
   "cell_type": "code",
   "execution_count": null,
   "id": "c092bf88",
   "metadata": {},
   "outputs": [],
   "source": [
    "#8. If a function does not have a return statement, what is the return value of a call to that function?"
   ]
  },
  {
   "cell_type": "markdown",
   "id": "661ed5c9",
   "metadata": {},
   "source": [
    "None will be the return value"
   ]
  },
  {
   "cell_type": "code",
   "execution_count": null,
   "id": "4570e61f",
   "metadata": {},
   "outputs": [],
   "source": [
    "#9. How do you make a function variable refer to the global variable?"
   ]
  },
  {
   "cell_type": "markdown",
   "id": "6a696d30",
   "metadata": {},
   "source": [
    "not clear."
   ]
  },
  {
   "cell_type": "code",
   "execution_count": null,
   "id": "487e0722",
   "metadata": {},
   "outputs": [],
   "source": [
    "#10. What is the data type of None?"
   ]
  },
  {
   "cell_type": "markdown",
   "id": "b844c1f9",
   "metadata": {},
   "source": [
    "NoneType"
   ]
  },
  {
   "cell_type": "code",
   "execution_count": null,
   "id": "55d7083c",
   "metadata": {},
   "outputs": [],
   "source": [
    "#11. What does the sentence import areallyourpetsnamederic do?"
   ]
  },
  {
   "cell_type": "markdown",
   "id": "62687a94",
   "metadata": {},
   "source": [
    "It will import a module name areallyourpetsnamederic ."
   ]
  },
  {
   "cell_type": "code",
   "execution_count": null,
   "id": "e5d9ce28",
   "metadata": {},
   "outputs": [],
   "source": [
    "#12. If you had a bacon() feature in a spam module, what would you call it after importing spam?"
   ]
  },
  {
   "cell_type": "markdown",
   "id": "34c5c292",
   "metadata": {},
   "source": [
    "spam.bacon()"
   ]
  },
  {
   "cell_type": "code",
   "execution_count": null,
   "id": "1290b313",
   "metadata": {},
   "outputs": [],
   "source": [
    "#13. What can you do to save a programme from crashing if it encounters an error?"
   ]
  },
  {
   "cell_type": "markdown",
   "id": "2e0c94fc",
   "metadata": {},
   "source": [
    "We can use the exception handling ( Try and except clause) "
   ]
  },
  {
   "cell_type": "code",
   "execution_count": null,
   "id": "1927a8bb",
   "metadata": {},
   "outputs": [],
   "source": [
    "#14. What is the purpose of the try clause? What is the purpose of the except clause?"
   ]
  },
  {
   "cell_type": "markdown",
   "id": "f511a4b0",
   "metadata": {},
   "source": [
    "Both are used in the case of exception handling . The code that can give error as output will be used under the try block and the code that will execute in case of any error happens  will go under except block."
   ]
  },
  {
   "cell_type": "code",
   "execution_count": null,
   "id": "23229090",
   "metadata": {},
   "outputs": [],
   "source": []
  }
 ],
 "metadata": {
  "kernelspec": {
   "display_name": "Python 3 (ipykernel)",
   "language": "python",
   "name": "python3"
  },
  "language_info": {
   "codemirror_mode": {
    "name": "ipython",
    "version": 3
   },
   "file_extension": ".py",
   "mimetype": "text/x-python",
   "name": "python",
   "nbconvert_exporter": "python",
   "pygments_lexer": "ipython3",
   "version": "3.9.12"
  }
 },
 "nbformat": 4,
 "nbformat_minor": 5
}
