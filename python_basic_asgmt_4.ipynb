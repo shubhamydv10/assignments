{
 "cells": [
  {
   "cell_type": "code",
   "execution_count": 7,
   "id": "f1769822",
   "metadata": {},
   "outputs": [],
   "source": [
    "#1. What exactly is []?"
   ]
  },
  {
   "cell_type": "markdown",
   "id": "f0faf3e5",
   "metadata": {},
   "source": [
    "It is a empty list ."
   ]
  },
  {
   "cell_type": "code",
   "execution_count": null,
   "id": "21a132a5",
   "metadata": {},
   "outputs": [],
   "source": [
    "#2. In a list of values stored in a variable called spam, how would you assign the value &#39;hello&#39; as the\n",
    "third value? (Assume [2, 4, 6, 8, 10] are in spam.)"
   ]
  },
  {
   "cell_type": "code",
   "execution_count": 9,
   "id": "d0570008",
   "metadata": {},
   "outputs": [],
   "source": [
    "spam = [2,4,6,8,10]"
   ]
  },
  {
   "cell_type": "code",
   "execution_count": 10,
   "id": "1858dd01",
   "metadata": {},
   "outputs": [
    {
     "data": {
      "text/plain": [
       "[2, 4, 6, 8, 10]"
      ]
     },
     "execution_count": 10,
     "metadata": {},
     "output_type": "execute_result"
    }
   ],
   "source": [
    "spam"
   ]
  },
  {
   "cell_type": "code",
   "execution_count": 11,
   "id": "16e4f5c1",
   "metadata": {},
   "outputs": [],
   "source": [
    "spam.insert(3,'hello')"
   ]
  },
  {
   "cell_type": "code",
   "execution_count": 12,
   "id": "c569448f",
   "metadata": {},
   "outputs": [
    {
     "data": {
      "text/plain": [
       "[2, 4, 6, 'hello', 8, 10]"
      ]
     },
     "execution_count": 12,
     "metadata": {},
     "output_type": "execute_result"
    }
   ],
   "source": [
    "spam"
   ]
  },
  {
   "cell_type": "code",
   "execution_count": 13,
   "id": "7a497f39",
   "metadata": {},
   "outputs": [],
   "source": [
    "#3. What is the value of spam[int(int(&#39;3&#39; * 2) / 11)]?"
   ]
  },
  {
   "cell_type": "code",
   "execution_count": 14,
   "id": "37681469",
   "metadata": {},
   "outputs": [
    {
     "data": {
      "text/plain": [
       "'d'"
      ]
     },
     "execution_count": 14,
     "metadata": {},
     "output_type": "execute_result"
    }
   ],
   "source": [
    "spam = ['a','b','c','d']\n",
    "spam[int(int('3'*2)//11)]"
   ]
  },
  {
   "cell_type": "code",
   "execution_count": 15,
   "id": "66771a68",
   "metadata": {},
   "outputs": [],
   "source": [
    "#4. What is the value of spam[-1]?"
   ]
  },
  {
   "cell_type": "code",
   "execution_count": 16,
   "id": "9debd23e",
   "metadata": {},
   "outputs": [
    {
     "data": {
      "text/plain": [
       "'d'"
      ]
     },
     "execution_count": 16,
     "metadata": {},
     "output_type": "execute_result"
    }
   ],
   "source": [
    "spam[-1]"
   ]
  },
  {
   "cell_type": "code",
   "execution_count": 17,
   "id": "baa16b1b",
   "metadata": {},
   "outputs": [],
   "source": [
    "#5. What is the value of spam[:2]?"
   ]
  },
  {
   "cell_type": "code",
   "execution_count": 18,
   "id": "632151ed",
   "metadata": {},
   "outputs": [
    {
     "data": {
      "text/plain": [
       "['a', 'b']"
      ]
     },
     "execution_count": 18,
     "metadata": {},
     "output_type": "execute_result"
    }
   ],
   "source": [
    "spam[:2]"
   ]
  },
  {
   "cell_type": "code",
   "execution_count": 19,
   "id": "b6fa477a",
   "metadata": {},
   "outputs": [],
   "source": [
    "bacon = [3.14,'cat',11,'cat' ,True]"
   ]
  },
  {
   "cell_type": "code",
   "execution_count": 20,
   "id": "3cbfba9b",
   "metadata": {},
   "outputs": [],
   "source": [
    "#6. What is the value of bacon.index('cat')?"
   ]
  },
  {
   "cell_type": "code",
   "execution_count": 21,
   "id": "0de8d023",
   "metadata": {},
   "outputs": [
    {
     "data": {
      "text/plain": [
       "1"
      ]
     },
     "execution_count": 21,
     "metadata": {},
     "output_type": "execute_result"
    }
   ],
   "source": [
    "bacon.index('cat')"
   ]
  },
  {
   "cell_type": "code",
   "execution_count": 22,
   "id": "a3da906c",
   "metadata": {},
   "outputs": [],
   "source": [
    "#7. How does bacon.append(99) change the look of the list value in bacon?"
   ]
  },
  {
   "cell_type": "markdown",
   "id": "e9cf2d51",
   "metadata": {},
   "source": [
    "append will add 99 in the list"
   ]
  },
  {
   "cell_type": "code",
   "execution_count": 23,
   "id": "ab302b49",
   "metadata": {},
   "outputs": [],
   "source": [
    "bacon.append(99)"
   ]
  },
  {
   "cell_type": "code",
   "execution_count": 24,
   "id": "3ba1043f",
   "metadata": {},
   "outputs": [
    {
     "data": {
      "text/plain": [
       "[3.14, 'cat', 11, 'cat', True, 99]"
      ]
     },
     "execution_count": 24,
     "metadata": {},
     "output_type": "execute_result"
    }
   ],
   "source": [
    "bacon"
   ]
  },
  {
   "cell_type": "code",
   "execution_count": 25,
   "id": "4c850220",
   "metadata": {},
   "outputs": [],
   "source": [
    "#8. How does bacon.remove ('cat') change the look of the list in bacon?"
   ]
  },
  {
   "cell_type": "markdown",
   "id": "5c135e08",
   "metadata": {},
   "source": [
    "it will remove the cat variable from the list."
   ]
  },
  {
   "cell_type": "code",
   "execution_count": 26,
   "id": "6cecedc6",
   "metadata": {},
   "outputs": [],
   "source": [
    "bacon.remove('cat')"
   ]
  },
  {
   "cell_type": "code",
   "execution_count": 27,
   "id": "5dc35cfb",
   "metadata": {},
   "outputs": [
    {
     "data": {
      "text/plain": [
       "[3.14, 11, 'cat', True, 99]"
      ]
     },
     "execution_count": 27,
     "metadata": {},
     "output_type": "execute_result"
    }
   ],
   "source": [
    "bacon"
   ]
  },
  {
   "cell_type": "code",
   "execution_count": 28,
   "id": "176fd82e",
   "metadata": {},
   "outputs": [],
   "source": [
    "#9. What are the list concatenation and list replication operators?"
   ]
  },
  {
   "cell_type": "markdown",
   "id": "941269fd",
   "metadata": {},
   "source": [
    "List concatenation will add two list while by replication we can double a partcular list ."
   ]
  },
  {
   "cell_type": "code",
   "execution_count": 29,
   "id": "80b6b488",
   "metadata": {},
   "outputs": [],
   "source": [
    "l1=[1,2,3,4,5]\n",
    "l2=[55,44,66,88,45]\n",
    "l3=[l1+l2]\n",
    "l4=[l1]*2"
   ]
  },
  {
   "cell_type": "code",
   "execution_count": 30,
   "id": "eade93fa",
   "metadata": {},
   "outputs": [
    {
     "data": {
      "text/plain": [
       "[[1, 2, 3, 4, 5, 55, 44, 66, 88, 45]]"
      ]
     },
     "execution_count": 30,
     "metadata": {},
     "output_type": "execute_result"
    }
   ],
   "source": [
    "l3  #list concatenation"
   ]
  },
  {
   "cell_type": "code",
   "execution_count": 31,
   "id": "d00da536",
   "metadata": {},
   "outputs": [
    {
     "data": {
      "text/plain": [
       "[[1, 2, 3, 4, 5], [1, 2, 3, 4, 5]]"
      ]
     },
     "execution_count": 31,
     "metadata": {},
     "output_type": "execute_result"
    }
   ],
   "source": [
    "l4  #list replication"
   ]
  },
  {
   "cell_type": "code",
   "execution_count": 32,
   "id": "d7198bc3",
   "metadata": {},
   "outputs": [],
   "source": [
    "#10. What is difference between the list methods append() and insert()?"
   ]
  },
  {
   "cell_type": "markdown",
   "id": "d12cc8da",
   "metadata": {},
   "source": [
    "Append will add the value at the end of list while by insert we can add value at desired index."
   ]
  },
  {
   "cell_type": "code",
   "execution_count": 33,
   "id": "1e04e825",
   "metadata": {},
   "outputs": [],
   "source": [
    "l1=[1,2,3,4,5]"
   ]
  },
  {
   "cell_type": "code",
   "execution_count": 34,
   "id": "bf51a020",
   "metadata": {},
   "outputs": [],
   "source": [
    "l1.append(88)"
   ]
  },
  {
   "cell_type": "code",
   "execution_count": 35,
   "id": "724f6d08",
   "metadata": {},
   "outputs": [
    {
     "data": {
      "text/plain": [
       "[1, 2, 3, 4, 5, 88]"
      ]
     },
     "execution_count": 35,
     "metadata": {},
     "output_type": "execute_result"
    }
   ],
   "source": [
    "l1"
   ]
  },
  {
   "cell_type": "code",
   "execution_count": 36,
   "id": "7ed0dd73",
   "metadata": {},
   "outputs": [],
   "source": [
    "l1.insert(2,55)  #2 is the index where we want to add a variable"
   ]
  },
  {
   "cell_type": "code",
   "execution_count": 37,
   "id": "89ed5536",
   "metadata": {},
   "outputs": [
    {
     "data": {
      "text/plain": [
       "[1, 2, 55, 3, 4, 5, 88]"
      ]
     },
     "execution_count": 37,
     "metadata": {},
     "output_type": "execute_result"
    }
   ],
   "source": [
    "l1"
   ]
  },
  {
   "cell_type": "code",
   "execution_count": 38,
   "id": "da949f73",
   "metadata": {},
   "outputs": [],
   "source": [
    "#11. What are the two methods for removing items from a list?"
   ]
  },
  {
   "cell_type": "markdown",
   "id": "703e7dfb",
   "metadata": {},
   "source": [
    "pop and remove are the two functions"
   ]
  },
  {
   "cell_type": "code",
   "execution_count": 40,
   "id": "0bbcf127",
   "metadata": {},
   "outputs": [
    {
     "data": {
      "text/plain": [
       "88"
      ]
     },
     "execution_count": 40,
     "metadata": {},
     "output_type": "execute_result"
    }
   ],
   "source": [
    "l1.pop()"
   ]
  },
  {
   "cell_type": "code",
   "execution_count": 41,
   "id": "d466fb89",
   "metadata": {},
   "outputs": [
    {
     "data": {
      "text/plain": [
       "[1, 2, 55, 3, 4, 5]"
      ]
     },
     "execution_count": 41,
     "metadata": {},
     "output_type": "execute_result"
    }
   ],
   "source": [
    "l1"
   ]
  },
  {
   "cell_type": "code",
   "execution_count": 42,
   "id": "0256c214",
   "metadata": {},
   "outputs": [],
   "source": [
    "l1.remove(55)"
   ]
  },
  {
   "cell_type": "code",
   "execution_count": 43,
   "id": "6f7f4437",
   "metadata": {},
   "outputs": [
    {
     "data": {
      "text/plain": [
       "[1, 2, 3, 4, 5]"
      ]
     },
     "execution_count": 43,
     "metadata": {},
     "output_type": "execute_result"
    }
   ],
   "source": [
    "l1"
   ]
  },
  {
   "cell_type": "code",
   "execution_count": 44,
   "id": "4612c51f",
   "metadata": {},
   "outputs": [],
   "source": [
    "#12. Describe how list values and string values are identical."
   ]
  },
  {
   "cell_type": "markdown",
   "id": "0de2557e",
   "metadata": {},
   "source": [
    "Both lists and strings can be passed to len() function, have indexes and slices,can be used in for loops, be concatenated or replicated, and be used with the in and not in operators."
   ]
  },
  {
   "cell_type": "code",
   "execution_count": 45,
   "id": "82357d5b",
   "metadata": {},
   "outputs": [],
   "source": [
    "#13. What's the difference between tuples and lists?"
   ]
  },
  {
   "cell_type": "markdown",
   "id": "50035543",
   "metadata": {},
   "source": [
    "Lists are Mutable. so values can be added, removed, or changed. Tuples are Immutable. so the values cannot be changed at all. tuples are represented using parentheses, () and lists are represented by square brackets, []."
   ]
  },
  {
   "cell_type": "code",
   "execution_count": 46,
   "id": "75d093cd",
   "metadata": {},
   "outputs": [],
   "source": [
    "#14. How do you type a tuple value that only contains the integer 42?"
   ]
  },
  {
   "cell_type": "code",
   "execution_count": 47,
   "id": "5009bf33",
   "metadata": {},
   "outputs": [],
   "source": [
    "t = (42)"
   ]
  },
  {
   "cell_type": "code",
   "execution_count": 48,
   "id": "e4b679c6",
   "metadata": {},
   "outputs": [],
   "source": [
    "#15. How do you get a list value's tuple form? How do you get a tuple value's list form?"
   ]
  },
  {
   "cell_type": "code",
   "execution_count": 49,
   "id": "6cc5fd8f",
   "metadata": {},
   "outputs": [
    {
     "data": {
      "text/plain": [
       "list"
      ]
     },
     "execution_count": 49,
     "metadata": {},
     "output_type": "execute_result"
    }
   ],
   "source": [
    "#let l be a list\n",
    "\n",
    "l = [1,2,3]\n",
    "type(l)\n",
    "t1=tuple(l) #list into tuple\n",
    "type(t1)\n",
    "t2=list(t1) #from tuple to list\n",
    "type(t2)"
   ]
  },
  {
   "cell_type": "code",
   "execution_count": 50,
   "id": "d98c409f",
   "metadata": {},
   "outputs": [],
   "source": [
    "#16. Variables that \"contains\" list values are not necessarily lists themselves. Instead, what do they contain?"
   ]
  },
  {
   "cell_type": "markdown",
   "id": "6dcb1d39",
   "metadata": {},
   "source": [
    "Refrences of the list value."
   ]
  },
  {
   "cell_type": "code",
   "execution_count": 51,
   "id": "1a2c8b07",
   "metadata": {},
   "outputs": [],
   "source": [
    "#17. How do you distinguish between copy.copy() and copy.deepcopy()?"
   ]
  },
  {
   "cell_type": "markdown",
   "id": "817c75be",
   "metadata": {},
   "source": [
    " copy.copy() will do a shallow copy while copy.deepcopy() will do a deep copy of the list."
   ]
  },
  {
   "cell_type": "code",
   "execution_count": null,
   "id": "d66c1222",
   "metadata": {},
   "outputs": [],
   "source": []
  }
 ],
 "metadata": {
  "kernelspec": {
   "display_name": "Python 3 (ipykernel)",
   "language": "python",
   "name": "python3"
  },
  "language_info": {
   "codemirror_mode": {
    "name": "ipython",
    "version": 3
   },
   "file_extension": ".py",
   "mimetype": "text/x-python",
   "name": "python",
   "nbconvert_exporter": "python",
   "pygments_lexer": "ipython3",
   "version": "3.9.12"
  }
 },
 "nbformat": 4,
 "nbformat_minor": 5
}
