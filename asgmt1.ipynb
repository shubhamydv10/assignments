{
 "cells": [
  {
   "cell_type": "code",
   "execution_count": null,
   "id": "2bf61150",
   "metadata": {},
   "outputs": [],
   "source": [
    "#1. In the below elements which of them are values or an expression? eg:- values can be integer or string and expressions will be mathematical operators.\n",
    "'''*\n",
    "hello\n",
    "-87.8\n",
    "-\n",
    "/\n",
    "+\n",
    "6'''"
   ]
  },
  {
   "cell_type": "markdown",
   "id": "766e56ff",
   "metadata": {},
   "source": [
    "* - multiplication expression \n",
    "'hello' - string value\n",
    "-87.8 - integer value\n",
    " -      - expression for substraction\n",
    " / - expression\n",
    " +  -  expression\n",
    " 6 - integer value"
   ]
  },
  {
   "cell_type": "code",
   "execution_count": null,
   "id": "de278aee",
   "metadata": {},
   "outputs": [],
   "source": [
    "#2. What is the difference between string and variable?"
   ]
  },
  {
   "cell_type": "markdown",
   "id": "c24e7712",
   "metadata": {},
   "source": [
    "Variable is assigned in python to store the information about the value , whereas a string is a data type that can be stored inside a variable.\n",
    "for ex \n",
    "n = \"shubham\"\n",
    "here we are storing name in variable called 'n'. whereas 'shubham' is a string value which is stored inside variable 'n'."
   ]
  },
  {
   "cell_type": "code",
   "execution_count": null,
   "id": "abf13b6d",
   "metadata": {},
   "outputs": [],
   "source": [
    "#3. Describe three different data types."
   ]
  },
  {
   "cell_type": "markdown",
   "id": "6c9fdce7",
   "metadata": {},
   "source": [
    "# 3 data types are \n",
    "string - Any data type containing alphabets is called a string. eg \"shubham\"\n",
    "int - int is basically an data type containing numeric value. eg 0, 1 ,-56\n",
    "bollean - bollean value contains 2 variable TRUE and FALSE . It return these value by checking the condition .\n"
   ]
  },
  {
   "cell_type": "code",
   "execution_count": null,
   "id": "f7a90235",
   "metadata": {},
   "outputs": [],
   "source": [
    "#4. What is an expression made up of? What do all expressions do?"
   ]
  },
  {
   "cell_type": "markdown",
   "id": "b4bd37dc",
   "metadata": {},
   "source": [
    "Expression is made up of values , containers and operators(mathematical) . Expression is used for the evaluating values to get the desired output as a result."
   ]
  },
  {
   "cell_type": "code",
   "execution_count": null,
   "id": "26dd6c8b",
   "metadata": {},
   "outputs": [],
   "source": [
    "#5. This assignment statements, like spam = 10. What is the difference between an expression and a statement?"
   ]
  },
  {
   "cell_type": "markdown",
   "id": "335d392f",
   "metadata": {},
   "source": [
    "Expression is made up of values , containers and operators(mathematical).eg a+b=10\n",
    "Whereas a statement can be described as a command given to the python for execution. print(\"shubham\") "
   ]
  },
  {
   "cell_type": "code",
   "execution_count": 6,
   "id": "e13bbc71",
   "metadata": {},
   "outputs": [],
   "source": [
    "#6. After running the following code, what does the variable bacon contain?"
   ]
  },
  {
   "cell_type": "code",
   "execution_count": 7,
   "id": "cb6d3cf8",
   "metadata": {},
   "outputs": [
    {
     "data": {
      "text/plain": [
       "23"
      ]
     },
     "execution_count": 7,
     "metadata": {},
     "output_type": "execute_result"
    }
   ],
   "source": [
    "bacon = 22\n",
    "bacon+1\n"
   ]
  },
  {
   "cell_type": "code",
   "execution_count": null,
   "id": "0f8c6844",
   "metadata": {},
   "outputs": [],
   "source": [
    "#7. What should the values of the following two terms be?"
   ]
  },
  {
   "cell_type": "code",
   "execution_count": 8,
   "id": "0d8b5c96",
   "metadata": {},
   "outputs": [
    {
     "data": {
      "text/plain": [
       "'spamspamspam'"
      ]
     },
     "execution_count": 8,
     "metadata": {},
     "output_type": "execute_result"
    }
   ],
   "source": [
    "'spam'+'spamspam'"
   ]
  },
  {
   "cell_type": "code",
   "execution_count": 9,
   "id": "bc9c9aed",
   "metadata": {},
   "outputs": [
    {
     "data": {
      "text/plain": [
       "'spamspamspam'"
      ]
     },
     "execution_count": 9,
     "metadata": {},
     "output_type": "execute_result"
    }
   ],
   "source": [
    "'spam'*3"
   ]
  },
  {
   "cell_type": "code",
   "execution_count": null,
   "id": "3fff7a2d",
   "metadata": {},
   "outputs": [],
   "source": [
    "#8. Why is eggs a valid variable name while 100 is invalid?"
   ]
  },
  {
   "cell_type": "markdown",
   "id": "449801a4",
   "metadata": {},
   "source": [
    "Because we can't assign a varibale name which is starting with a integer."
   ]
  },
  {
   "cell_type": "code",
   "execution_count": null,
   "id": "def9430e",
   "metadata": {},
   "outputs": [],
   "source": [
    "#9. What three functions can be used to get the integer, floating-point number, or string version of a value?"
   ]
  },
  {
   "cell_type": "code",
   "execution_count": null,
   "id": "188670eb",
   "metadata": {},
   "outputs": [],
   "source": [
    "typecasting can be done by following ways-\n",
    "integer - int()\n",
    "floating point no. - float()\n",
    "string - str()\n"
   ]
  },
  {
   "cell_type": "code",
   "execution_count": null,
   "id": "42faff9e",
   "metadata": {},
   "outputs": [],
   "source": [
    "#10. Why does this expression cause an error? How can you fix it?"
   ]
  },
  {
   "cell_type": "markdown",
   "id": "f2c2dbe4",
   "metadata": {},
   "source": [
    "99 is an integer value . So we cannot directly concatenate an integer value with a string. We need to convert that integer value in a string by typecasting."
   ]
  },
  {
   "cell_type": "code",
   "execution_count": 13,
   "id": "f89bc96a",
   "metadata": {},
   "outputs": [
    {
     "data": {
      "text/plain": [
       "'i have eaten 99 burritos'"
      ]
     },
     "execution_count": 13,
     "metadata": {},
     "output_type": "execute_result"
    }
   ],
   "source": [
    "'i have eaten '+ str(99) +' burritos'"
   ]
  },
  {
   "cell_type": "code",
   "execution_count": null,
   "id": "aac92b29",
   "metadata": {},
   "outputs": [],
   "source": []
  }
 ],
 "metadata": {
  "kernelspec": {
   "display_name": "Python 3 (ipykernel)",
   "language": "python",
   "name": "python3"
  },
  "language_info": {
   "codemirror_mode": {
    "name": "ipython",
    "version": 3
   },
   "file_extension": ".py",
   "mimetype": "text/x-python",
   "name": "python",
   "nbconvert_exporter": "python",
   "pygments_lexer": "ipython3",
   "version": "3.9.12"
  }
 },
 "nbformat": 4,
 "nbformat_minor": 5
}
